{
 "cells": [
  {
   "cell_type": "code",
   "execution_count": null,
   "metadata": {},
   "outputs": [],
   "source": [
    "import numpy as np\n",
    "import pandas as pd\n",
    "import sklearn \n",
    "from sklearn.model_selection import train_test_split\n",
    "import matplotlib as plt\n",
    "import xgboost as xgb"
   ]
  },
  {
   "cell_type": "code",
   "execution_count": null,
   "metadata": {},
   "outputs": [],
   "source": [
    "df = pd.read_csv(r\"C:\\Users\\Asus\\Downloads\\matches.csv\")\n",
    "df\n",
    "col = df['result'].replace({'W':0,'D':1,'L':2})\n",
    "df.pop('result')\n",
    "\n",
    "df['result'] = col\n",
    "df.columns"
   ]
  },
  {
   "cell_type": "code",
   "execution_count": null,
   "metadata": {},
   "outputs": [],
   "source": [
    "df['team'].value_counts()"
   ]
  },
  {
   "cell_type": "markdown",
   "metadata": {},
   "source": [
    "ENCODING CATEGORICAL COLUMNS"
   ]
  },
  {
   "cell_type": "code",
   "execution_count": null,
   "metadata": {},
   "outputs": [],
   "source": [
    "from sklearn.preprocessing import LabelEncoder\n",
    "\n",
    "# Convert date/time columns to datetime and extract features\n",
    "df['date'] = pd.to_datetime(df['date'])\n",
    "df['year'] = df['date'].dt.year\n",
    "df['month'] = df['date'].dt.month\n",
    "df['day'] = df['date'].dt.day\n",
    "df = df.drop(columns=['date'])  # Drop the original date column\n",
    "\n",
    "# Encode categorical columns\n",
    "for col in ['comp', 'round', 'day', 'venue', 'opponent', 'captain', 'formation', 'referee', 'match report', 'team']:\n",
    "    df[col] = LabelEncoder().fit_transform(df[col])\n"
   ]
  },
  {
   "cell_type": "code",
   "execution_count": null,
   "metadata": {},
   "outputs": [],
   "source": [
    "df = df.drop(columns=['notes'])"
   ]
  },
  {
   "cell_type": "code",
   "execution_count": null,
   "metadata": {},
   "outputs": [],
   "source": [
    "train_df , val_df = train_test_split(df , test_size=0.2)\n",
    "train_df , test_df =  train_test_split(train_df,test_size=0.2)\n",
    "len(train_df),len(val_df),len(test_df)"
   ]
  },
  {
   "cell_type": "code",
   "execution_count": null,
   "metadata": {},
   "outputs": [],
   "source": [
    "y = train_df['result']\n",
    "X = train_df.drop(columns=['result'])\n",
    "X"
   ]
  },
  {
   "cell_type": "code",
   "execution_count": null,
   "metadata": {},
   "outputs": [],
   "source": [
    "xgb_selection = xgb.XGBClassifier(\n",
    "    n_estimators=200, \n",
    "    max_depth=5, \n",
    "    learning_rate=0.05, \n",
    "    colsample_bytree=0.8, \n",
    "    subsample=0.8, \n",
    "    tree_method=\"hist\", \n",
    "    enable_categorical=True\n",
    ")\n",
    "X.pop('time')\n",
    "print(X.dtypes)  # Verify all columns are numeric or category\n",
    "\n",
    "# Xgboost does not natively support categorical variables or text data without preprocessing (hence 4 cells above this cell is used)\n",
    "xgb_selection.fit(X, y)  # Fit the model\n"
   ]
  },
  {
   "cell_type": "markdown",
   "metadata": {},
   "source": [
    "IMPORTANT"
   ]
  },
  {
   "cell_type": "code",
   "execution_count": null,
   "metadata": {},
   "outputs": [],
   "source": [
    "\n",
    "importances = xgb_selection.feature_importances_\n",
    "\n",
    "# Set a threshold and select features\n",
    "threshold = 0.01\n",
    "selected_features = X.columns[importances > threshold]\n",
    "X_selected = X[selected_features]"
   ]
  },
  {
   "cell_type": "code",
   "execution_count": null,
   "metadata": {},
   "outputs": [],
   "source": [
    "from sklearn.ensemble import RandomForestClassifier\n",
    "model = RandomForestClassifier(n_estimators=200,max_depth=5,min_samples_split=5,random_state=1)\n",
    "model.fit(X_selected,y)"
   ]
  },
  {
   "cell_type": "code",
   "execution_count": null,
   "metadata": {},
   "outputs": [],
   "source": [
    "from sklearn.metrics import accuracy_score\n",
    "X_val = val_df[selected_features] # important training df cols and val_df cols must be the same\n",
    "ans = model.predict(X_val)\n",
    "acc = accuracy_score(ans,val_df['result'])\n",
    "print(\"Accuracy score:\",acc*100)\n",
    "ans"
   ]
  },
  {
   "cell_type": "code",
   "execution_count": null,
   "metadata": {},
   "outputs": [],
   "source": [
    "X_test = test_df[selected_features]\n",
    "result = model.predict(X_test)\n",
    "acc = accuracy_score(result,test_df['result'])\n",
    "print(\"Accuracy score:\",acc*100)\n",
    "result"
   ]
  }
 ],
 "metadata": {
  "kernelspec": {
   "display_name": "Python 3",
   "language": "python",
   "name": "python3"
  },
  "language_info": {
   "codemirror_mode": {
    "name": "ipython",
    "version": 3
   },
   "file_extension": ".py",
   "mimetype": "text/x-python",
   "name": "python",
   "nbconvert_exporter": "python",
   "pygments_lexer": "ipython3",
   "version": "3.11.9"
  }
 },
 "nbformat": 4,
 "nbformat_minor": 2
}
